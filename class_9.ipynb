{
 "cells": [
  {
   "cell_type": "markdown",
   "metadata": {},
   "source": [
    "Object Oriented Python "
   ]
  },
  {
   "cell_type": "code",
   "execution_count": 4,
   "metadata": {},
   "outputs": [],
   "source": [
    "class Student(): #Define a Class \n",
    "\n",
    "    pass"
   ]
  },
  {
   "cell_type": "code",
   "execution_count": 5,
   "metadata": {},
   "outputs": [],
   "source": [
    "sudent1=Student() #Create an Object\n"
   ]
  },
  {
   "cell_type": "code",
   "execution_count": 6,
   "metadata": {},
   "outputs": [],
   "source": [
    "class Student():\n",
    "    name=\"Ali\"\n",
    "    gender=\"M\"\n",
    "    age=\"21\"\n",
    "    course=\"AI\"\n",
    "    roll=\"2222\"\n",
    "    institute=\"SIUET\"\n",
    "\n"
   ]
  },
  {
   "cell_type": "code",
   "execution_count": 7,
   "metadata": {},
   "outputs": [
    {
     "data": {
      "text/plain": [
       "'Ali'"
      ]
     },
     "execution_count": 7,
     "metadata": {},
     "output_type": "execute_result"
    }
   ],
   "source": [
    "student1=Student()\n",
    "\n",
    "student1.name"
   ]
  },
  {
   "cell_type": "code",
   "execution_count": 8,
   "metadata": {},
   "outputs": [],
   "source": [
    "class Student():\n",
    "    def __init__(self,name,roll,course,center):\n",
    "        self.name=name\n",
    "        self.roll=roll\n",
    "        self.course=course\n",
    "        self.center=center \n",
    "       \n",
    "       \n",
    "       \n",
    "        "
   ]
  },
  {
   "cell_type": "code",
   "execution_count": 9,
   "metadata": {},
   "outputs": [],
   "source": [
    "s1=Student(\"Ali\",222,\"AI\",\"SSUET\")\n",
    "s2=Student(\"Ahmed\",123,\"AI\",\"SSUET\")\n"
   ]
  },
  {
   "cell_type": "code",
   "execution_count": 10,
   "metadata": {},
   "outputs": [
    {
     "data": {
      "text/plain": [
       "'Ali'"
      ]
     },
     "execution_count": 10,
     "metadata": {},
     "output_type": "execute_result"
    }
   ],
   "source": [
    "s1.name"
   ]
  },
  {
   "cell_type": "code",
   "execution_count": 11,
   "metadata": {},
   "outputs": [
    {
     "data": {
      "text/plain": [
       "'Ahmed'"
      ]
     },
     "execution_count": 11,
     "metadata": {},
     "output_type": "execute_result"
    }
   ],
   "source": [
    "s2.name"
   ]
  },
  {
   "cell_type": "code",
   "execution_count": 13,
   "metadata": {},
   "outputs": [],
   "source": [
    "class mobile():\n",
    "    def __init__(self,battry,storage,camera,screen): # Methods (any function in class is called method) \n",
    "        self.battry=battry # Attributes \n",
    "        self.storage=storage# //\n",
    "        self.camera=camera#//\n",
    "        self.screen=screen#//"
   ]
  },
  {
   "cell_type": "code",
   "execution_count": 16,
   "metadata": {},
   "outputs": [],
   "source": [
    "m1=mobile(\"5000 MAh\",\"128GB\",\"48MP\",\"6.2\\\"\")\n",
    "m2=mobile(\"4500 MAh\",\"64GB\",\"16MP\",\"5.5\\\"\")"
   ]
  },
  {
   "cell_type": "code",
   "execution_count": 29,
   "metadata": {},
   "outputs": [
    {
     "name": "stdout",
     "output_type": "stream",
     "text": [
      "Storage of M1 is 128GB\n",
      "Storage of M2 is 64GB\n"
     ]
    }
   ],
   "source": [
    "print(f\"Storage of M1 is {m1.storage}\")\n",
    "print(f\"Storage of M2 is {m2.storage}\")"
   ]
  },
  {
   "cell_type": "code",
   "execution_count": 30,
   "metadata": {},
   "outputs": [],
   "source": [
    "class Student():\n",
    "    def __init__(self,name,roll,course,center):\n",
    "        self.name=name\n",
    "        self.roll=roll\n",
    "        self.course=course\n",
    "        self.center=center \n",
    "    def apearingExam(self):\n",
    "        print(f\"{self.name} is apear in Exam\")\n",
    "    def studentProfile(self):\n",
    "        print(f\"\"\"\n",
    "                Student Profile \n",
    "              ********************\n",
    "              Name      : {self.name}\n",
    "              Roll      : {self.roll}\n",
    "              Course    : {self.course}\n",
    "              Center    : {self.center}\n",
    "        \"\"\")\n",
    "\n"
   ]
  },
  {
   "cell_type": "code",
   "execution_count": 31,
   "metadata": {},
   "outputs": [],
   "source": [
    "std1=Student(\"Arsalan\",111,\"AI\",\"SSUET\")\n",
    "std2=Student(\"Header\",123,\"AI\",\"SSUET\")"
   ]
  },
  {
   "cell_type": "code",
   "execution_count": 38,
   "metadata": {},
   "outputs": [
    {
     "name": "stdout",
     "output_type": "stream",
     "text": [
      "\n",
      "                Student Profile \n",
      "              ********************\n",
      "              Name      : Header\n",
      "              Roll      : 123\n",
      "              Course    : AI\n",
      "              Center    : SSUET\n",
      "        \n"
     ]
    }
   ],
   "source": [
    "std2.studentProfile()\n"
   ]
  }
 ],
 "metadata": {
  "kernelspec": {
   "display_name": "Python 3.9.12 ('base')",
   "language": "python",
   "name": "python3"
  },
  "language_info": {
   "codemirror_mode": {
    "name": "ipython",
    "version": 3
   },
   "file_extension": ".py",
   "mimetype": "text/x-python",
   "name": "python",
   "nbconvert_exporter": "python",
   "pygments_lexer": "ipython3",
   "version": "3.9.12"
  },
  "orig_nbformat": 4,
  "vscode": {
   "interpreter": {
    "hash": "8701f4f1da9bd022d51fabb334d76856c938e37aa8ec8099d20e0015f9d5ebaa"
   }
  }
 },
 "nbformat": 4,
 "nbformat_minor": 2
}
