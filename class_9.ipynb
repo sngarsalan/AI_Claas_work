{
 "cells": [
  {
   "cell_type": "markdown",
   "metadata": {},
   "source": [
    "Object Oriented Python "
   ]
  },
  {
   "cell_type": "code",
   "execution_count": 4,
   "metadata": {},
   "outputs": [],
   "source": [
    "class Student(): #Define a Class \n",
    "\n",
    "    pass"
   ]
  },
  {
   "cell_type": "code",
   "execution_count": 5,
   "metadata": {},
   "outputs": [],
   "source": [
    "sudent1=Student() #Create an Object\n"
   ]
  },
  {
   "cell_type": "code",
   "execution_count": 6,
   "metadata": {},
   "outputs": [],
   "source": [
    "class Student():\n",
    "    name=\"Ali\"\n",
    "    gender=\"M\"\n",
    "    age=\"21\"\n",
    "    course=\"AI\"\n",
    "    roll=\"2222\"\n",
    "    institute=\"SIUET\"\n",
    "\n"
   ]
  },
  {
   "cell_type": "code",
   "execution_count": 7,
   "metadata": {},
   "outputs": [
    {
     "data": {
      "text/plain": [
       "'Ali'"
      ]
     },
     "execution_count": 7,
     "metadata": {},
     "output_type": "execute_result"
    }
   ],
   "source": [
    "student1=Student()\n",
    "\n",
    "student1.name"
   ]
  },
  {
   "cell_type": "code",
   "execution_count": 8,
   "metadata": {},
   "outputs": [],
   "source": [
    "class Student():\n",
    "    def __init__(self,name,roll,course,center):\n",
    "        self.name=name\n",
    "        self.roll=roll\n",
    "        self.course=course\n",
    "        self.center=center \n",
    "       \n",
    "       \n",
    "       \n",
    "        "
   ]
  },
  {
   "cell_type": "code",
   "execution_count": 9,
   "metadata": {},
   "outputs": [],
   "source": [
    "s1=Student(\"Ali\",222,\"AI\",\"SSUET\")\n",
    "s2=Student(\"Ahmed\",123,\"AI\",\"SSUET\")\n"
   ]
  },
  {
   "cell_type": "code",
   "execution_count": 10,
   "metadata": {},
   "outputs": [
    {
     "data": {
      "text/plain": [
       "'Ali'"
      ]
     },
     "execution_count": 10,
     "metadata": {},
     "output_type": "execute_result"
    }
   ],
   "source": [
    "s1.name"
   ]
  },
  {
   "cell_type": "code",
   "execution_count": 11,
   "metadata": {},
   "outputs": [
    {
     "data": {
      "text/plain": [
       "'Ahmed'"
      ]
     },
     "execution_count": 11,
     "metadata": {},
     "output_type": "execute_result"
    }
   ],
   "source": [
    "s2.name"
   ]
  },
  {
   "cell_type": "code",
   "execution_count": 13,
   "metadata": {},
   "outputs": [],
   "source": [
    "class mobile():\n",
    "    def __init__(self,battry,storage,camera,screen): # Methods (any function in class is called method) \n",
    "        self.battry=battry # Attributes \n",
    "        self.storage=storage# //\n",
    "        self.camera=camera#//\n",
    "        self.screen=screen#//"
   ]
  },
  {
   "cell_type": "code",
   "execution_count": 16,
   "metadata": {},
   "outputs": [],
   "source": [
    "m1=mobile(\"5000 MAh\",\"128GB\",\"48MP\",\"6.2\\\"\")\n",
    "m2=mobile(\"4500 MAh\",\"64GB\",\"16MP\",\"5.5\\\"\")"
   ]
  },
  {
   "cell_type": "code",
   "execution_count": 29,
   "metadata": {},
   "outputs": [
    {
     "name": "stdout",
     "output_type": "stream",
     "text": [
      "Storage of M1 is 128GB\n",
      "Storage of M2 is 64GB\n"
     ]
    }
   ],
   "source": [
    "print(f\"Storage of M1 is {m1.storage}\")\n",
    "print(f\"Storage of M2 is {m2.storage}\")"
   ]
  },
  {
   "cell_type": "code",
   "execution_count": 30,
   "metadata": {},
   "outputs": [],
   "source": [
    "class Student():\n",
    "    def __init__(self,name,roll,course,center):\n",
    "        self.name=name\n",
    "        self.roll=roll\n",
    "        self.course=course\n",
    "        self.center=center \n",
    "    def apearingExam(self):\n",
    "        print(f\"{self.name} is apear in Exam\")\n",
    "    def studentProfile(self):\n",
    "        print(f\"\"\"\n",
    "                Student Profile \n",
    "              ********************\n",
    "              Name      : {self.name}\n",
    "              Roll      : {self.roll}\n",
    "              Course    : {self.course}\n",
    "              Center    : {self.center}\n",
    "        \"\"\")\n",
    "\n"
   ]
  },
  {
   "cell_type": "code",
   "execution_count": 31,
   "metadata": {},
   "outputs": [],
   "source": [
    "std1=Student(\"Arsalan\",111,\"AI\",\"SSUET\")\n",
    "std2=Student(\"Header\",123,\"AI\",\"SSUET\")"
   ]
  },
  {
   "cell_type": "code",
   "execution_count": 39,
   "metadata": {},
   "outputs": [
    {
     "name": "stdout",
     "output_type": "stream",
     "text": [
      "\n",
      "                Student Profile \n",
      "              ********************\n",
      "              Name      : Header\n",
      "              Roll      : 123\n",
      "              Course    : AI\n",
      "              Center    : SSUET\n",
      "        \n"
     ]
    }
   ],
   "source": [
    "std2.studentProfile()\n"
   ]
  },
  {
   "cell_type": "code",
   "execution_count": 90,
   "metadata": {},
   "outputs": [],
   "source": [
    "from ast import Is\n",
    "\n",
    "\n",
    "class Student():\n",
    "    #Class Attribute (\"for Common attributes\")\n",
    "    course=\"AI\"\n",
    "    center=\"SSUET\"\n",
    "\n",
    "\n",
    "    def __init__(self,name,roll):\n",
    "        self.name=name\n",
    "        self.roll=roll\n",
    "         \n",
    "    def apearinExam(self,attendance,feesPaid):\n",
    "        if attendance>=70 and feesPaid:\n",
    "            print(f\"{self.name} is Allowed in Exam\")\n",
    "        else:\n",
    "            print(f\"{self.name} is NOT Allowed in Exam\")\n",
    "    def studentProfile(self):\n",
    "        print(f\"\"\"\n",
    "                Student Profile \n",
    "              ********************\n",
    "              Name      : {self.name}\n",
    "              Roll      : {self.roll}\n",
    "              Course    : {self.course}\n",
    "              Center    : {self.center}\n",
    "        \"\"\")\n"
   ]
  },
  {
   "cell_type": "code",
   "execution_count": 91,
   "metadata": {},
   "outputs": [],
   "source": [
    "std1=Student(\"Arsalan\",11)\n",
    "std2=Student(\"Header\",123)"
   ]
  },
  {
   "cell_type": "code",
   "execution_count": 89,
   "metadata": {},
   "outputs": [
    {
     "name": "stdout",
     "output_type": "stream",
     "text": [
      "\n",
      "                Student Profile \n",
      "              ********************\n",
      "              Name      : Header\n",
      "              Roll      : 123\n",
      "              Course    : AI-2\n",
      "              Center    : SSUET\n",
      "        \n"
     ]
    }
   ],
   "source": [
    "std2.studentProfile()"
   ]
  },
  {
   "cell_type": "code",
   "execution_count": 93,
   "metadata": {},
   "outputs": [],
   "source": [
    "class car():\n",
    "    def __init__(self,make,model,color,engine):\n",
    "        self.make=make\n",
    "        self.model=model\n",
    "        self.color=color\n",
    "        self.engine=engine\n",
    "        self.wheel=4\n",
    "    "
   ]
  },
  {
   "cell_type": "markdown",
   "metadata": {},
   "source": [
    "Gatter and Setter "
   ]
  },
  {
   "cell_type": "code",
   "execution_count": 97,
   "metadata": {},
   "outputs": [],
   "source": [
    "class Students():\n",
    "    course=\"AI\"\n",
    "    center=\"SSUET\"\n",
    "\n",
    "    def __init__(self,name,roll):\n",
    "        self.name=name\n",
    "        self.roll=roll\n",
    " \n",
    "    def apearingExam(self):    \n",
    "        print(f\"{self.name} is apear in Exam\")\n",
    "    def studentProfile(self):\n",
    "        print(f\"\"\"\n",
    "                Student Profile \n",
    "              ********************\n",
    "              Name      : {self.name}\n",
    "              Roll      : {self.roll}\n",
    "              Course    : {self.course}\n",
    "              Center    : {self.center}\n",
    "        \"\"\")\n",
    "    def getname(self):\n",
    "        print(f\"This student name is {self.name}\")\n",
    "    def setname(self,newname):\n",
    "        self.name=newname\n"
   ]
  },
  {
   "cell_type": "code",
   "execution_count": 98,
   "metadata": {},
   "outputs": [],
   "source": [
    "st1=Students(\"Asif\",112)"
   ]
  },
  {
   "cell_type": "code",
   "execution_count": 101,
   "metadata": {},
   "outputs": [
    {
     "name": "stdout",
     "output_type": "stream",
     "text": [
      "This student name is Sangi\n"
     ]
    }
   ],
   "source": [
    "st1.getname()"
   ]
  },
  {
   "cell_type": "code",
   "execution_count": 108,
   "metadata": {},
   "outputs": [],
   "source": [
    "class transport():\n",
    "    def __init__(self,route,destination,stations,duration):\n",
    "        self.route=route\n",
    "        self.destination=destination\n",
    "        self.stations=stations\n",
    "        self.duration=duration\n",
    "        self.location=\"karachi\""
   ]
  },
  {
   "cell_type": "code",
   "execution_count": 109,
   "metadata": {},
   "outputs": [],
   "source": [
    "route1=transport(\"A22\",\"Saddar\",5,45)"
   ]
  },
  {
   "cell_type": "code",
   "execution_count": 111,
   "metadata": {},
   "outputs": [
    {
     "data": {
      "text/plain": [
       "45"
      ]
     },
     "execution_count": 111,
     "metadata": {},
     "output_type": "execute_result"
    }
   ],
   "source": [
    "route1.duration"
   ]
  },
  {
   "cell_type": "code",
   "execution_count": 138,
   "metadata": {},
   "outputs": [],
   "source": [
    "\n",
    "class line():\n",
    "    def __init__(self,x1,y1,x2,y2):\n",
    "        self.point_a=(x1,y1)\n",
    "        self.point_b=(x2,y2)\n",
    "\n",
    "    def length(self):\n",
    "        d1=((self.point_b[0]-self.point_a[0])**2+(self.point_b[1]-self.point_a[1])**2)**0.5\n",
    "        return d1\n",
    "    def slop(self):\n",
    "        m1=(self.point_b[1]-self.point_a[1])/(self.point_b[0]-self.point_a[0])\n",
    "        return m1\n",
    "    def lineralation(self,d1,m1):\n",
    "        pr=d1*m1\n",
    "        if d1==m1:\n",
    "            print(f\"Lines are Parrallel\")\n",
    "        elif pr==1:\n",
    "            print(f\"lines are perpendicular\")\n",
    "        else:\n",
    "            print (f\"lines are not parallel niether perpendicular\")\n",
    "    \n",
    "\n",
    "\n",
    "\n"
   ]
  },
  {
   "cell_type": "code",
   "execution_count": 139,
   "metadata": {},
   "outputs": [],
   "source": [
    "l1=line(2,2,1,2)\n",
    "l2=line(2,3,2,8)"
   ]
  },
  {
   "cell_type": "code",
   "execution_count": 140,
   "metadata": {},
   "outputs": [
    {
     "data": {
      "text/plain": [
       "1.0"
      ]
     },
     "execution_count": 140,
     "metadata": {},
     "output_type": "execute_result"
    }
   ],
   "source": [
    "l1.length()"
   ]
  },
  {
   "cell_type": "code",
   "execution_count": 141,
   "metadata": {},
   "outputs": [
    {
     "ename": "TypeError",
     "evalue": "unsupported operand type(s) for *: 'line' and 'line'",
     "output_type": "error",
     "traceback": [
      "\u001b[1;31m---------------------------------------------------------------------------\u001b[0m",
      "\u001b[1;31mTypeError\u001b[0m                                 Traceback (most recent call last)",
      "\u001b[1;32mc:\\Users\\Development\\Python_Projects_AI\\class_9.ipynb Cell 30\u001b[0m in \u001b[0;36m<cell line: 1>\u001b[1;34m()\u001b[0m\n\u001b[1;32m----> <a href='vscode-notebook-cell:/c%3A/Users/Development/Python_Projects_AI/class_9.ipynb#X42sZmlsZQ%3D%3D?line=0'>1</a>\u001b[0m l1\u001b[39m.\u001b[39;49mlineralation(l1,l2)\n",
      "\u001b[1;32mc:\\Users\\Development\\Python_Projects_AI\\class_9.ipynb Cell 30\u001b[0m in \u001b[0;36mline.lineralation\u001b[1;34m(self, d1, m1)\u001b[0m\n\u001b[0;32m     <a href='vscode-notebook-cell:/c%3A/Users/Development/Python_Projects_AI/class_9.ipynb#X42sZmlsZQ%3D%3D?line=11'>12</a>\u001b[0m \u001b[39mdef\u001b[39;00m \u001b[39mlineralation\u001b[39m(\u001b[39mself\u001b[39m,d1,m1):\n\u001b[1;32m---> <a href='vscode-notebook-cell:/c%3A/Users/Development/Python_Projects_AI/class_9.ipynb#X42sZmlsZQ%3D%3D?line=12'>13</a>\u001b[0m     pr\u001b[39m=\u001b[39md1\u001b[39m*\u001b[39;49mm1\n\u001b[0;32m     <a href='vscode-notebook-cell:/c%3A/Users/Development/Python_Projects_AI/class_9.ipynb#X42sZmlsZQ%3D%3D?line=13'>14</a>\u001b[0m     \u001b[39mif\u001b[39;00m d1\u001b[39m==\u001b[39mm1:\n\u001b[0;32m     <a href='vscode-notebook-cell:/c%3A/Users/Development/Python_Projects_AI/class_9.ipynb#X42sZmlsZQ%3D%3D?line=14'>15</a>\u001b[0m         \u001b[39mprint\u001b[39m(\u001b[39mf\u001b[39m\u001b[39m\"\u001b[39m\u001b[39mLines are Parrallel\u001b[39m\u001b[39m\"\u001b[39m)\n",
      "\u001b[1;31mTypeError\u001b[0m: unsupported operand type(s) for *: 'line' and 'line'"
     ]
    }
   ],
   "source": [
    "l1.lineralation(l1,l2)"
   ]
  },
  {
   "cell_type": "markdown",
   "metadata": {},
   "source": [
    "Inheritance"
   ]
  },
  {
   "cell_type": "code",
   "execution_count": null,
   "metadata": {},
   "outputs": [],
   "source": []
  },
  {
   "cell_type": "markdown",
   "metadata": {},
   "source": []
  },
  {
   "cell_type": "code",
   "execution_count": null,
   "metadata": {},
   "outputs": [],
   "source": []
  }
 ],
 "metadata": {
  "kernelspec": {
   "display_name": "Python 3.9.12 ('base')",
   "language": "python",
   "name": "python3"
  },
  "language_info": {
   "codemirror_mode": {
    "name": "ipython",
    "version": 3
   },
   "file_extension": ".py",
   "mimetype": "text/x-python",
   "name": "python",
   "nbconvert_exporter": "python",
   "pygments_lexer": "ipython3",
   "version": "3.9.12"
  },
  "orig_nbformat": 4,
  "vscode": {
   "interpreter": {
    "hash": "8701f4f1da9bd022d51fabb334d76856c938e37aa8ec8099d20e0015f9d5ebaa"
   }
  }
 },
 "nbformat": 4,
 "nbformat_minor": 2
}
