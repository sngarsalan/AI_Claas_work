{
 "cells": [
  {
   "cell_type": "markdown",
   "metadata": {},
   "source": [
    "Class 7 \n"
   ]
  },
  {
   "cell_type": "markdown",
   "metadata": {},
   "source": [
    "Functions and Git Version Control \n"
   ]
  },
  {
   "cell_type": "code",
   "execution_count": 6,
   "metadata": {},
   "outputs": [
    {
     "name": "stdout",
     "output_type": "stream",
     "text": [
      "HEADER\n"
     ]
    }
   ],
   "source": [
    "def nameUpper():\n",
    "    \"\"\"This Function takes input and return the string in Upper Case\"\"\"\n",
    "    username=input(\"Enter Your Name: \")\n",
    "    username=username.upper()\n",
    "\n",
    "    print(username)\n",
    "\n",
    " \n",
    "\n",
    "nameUpper()    \n",
    "    "
   ]
  },
  {
   "cell_type": "code",
   "execution_count": 14,
   "metadata": {},
   "outputs": [
    {
     "name": "stdout",
     "output_type": "stream",
     "text": [
      "400\n"
     ]
    }
   ],
   "source": [
    "\n",
    "def calcSquire(a): #parameter \n",
    "\n",
    "    sq=a**2 # local variable (Only Call within fuction body can't access outside fucntion)\n",
    "    print(sq)\n",
    "\n",
    "calcSquire(20)#argument\n",
    "# String not Acceptable \n",
    "# one paremater not accept two aurguments \n",
    "# No Paramenter fucntion called paraenter less fucntion and rest of other called parametrised \n",
    "# parameter list may me long as much val of fuction to be computed \n",
    "\n"
   ]
  },
  {
   "cell_type": "code",
   "execution_count": 17,
   "metadata": {},
   "outputs": [],
   "source": [
    "def calcSquire(val): \n",
    "\n",
    "    global sq # Global variable for access outside\n",
    "\n",
    "    sq=val**2 \n",
    "    #print(sq)\n",
    "    \n",
    "\n",
    "calcSquire(100)"
   ]
  },
  {
   "cell_type": "code",
   "execution_count": 19,
   "metadata": {},
   "outputs": [
    {
     "name": "stdout",
     "output_type": "stream",
     "text": [
      "10000\n"
     ]
    }
   ],
   "source": [
    "print(sq)"
   ]
  },
  {
   "cell_type": "code",
   "execution_count": 24,
   "metadata": {},
   "outputs": [
    {
     "data": {
      "text/plain": [
       "25"
      ]
     },
     "execution_count": 24,
     "metadata": {},
     "output_type": "execute_result"
    }
   ],
   "source": [
    "def calcSquire(val): \n",
    "\n",
    "    #global sq # Global variable for access outside\n",
    "\n",
    "    sq=val**2 \n",
    "    #print(sq)\n",
    "    #return sq\n",
    "    return sq\n",
    "\n"
   ]
  },
  {
   "cell_type": "code",
   "execution_count": 29,
   "metadata": {},
   "outputs": [],
   "source": [
    "result=calcSquire(4)"
   ]
  },
  {
   "cell_type": "code",
   "execution_count": 30,
   "metadata": {},
   "outputs": [
    {
     "name": "stdout",
     "output_type": "stream",
     "text": [
      "16\n"
     ]
    }
   ],
   "source": [
    "print(result)"
   ]
  },
  {
   "cell_type": "code",
   "execution_count": 31,
   "metadata": {},
   "outputs": [],
   "source": [
    "def areaoftriangle(l,h):\n",
    "    area=l*h*0.5\n",
    "\n",
    "    return area,l,h"
   ]
  },
  {
   "cell_type": "code",
   "execution_count": 33,
   "metadata": {},
   "outputs": [],
   "source": [
    "areaoftriangle(5,6)\n",
    "area,l,h=areaoftriangle(5,6)"
   ]
  },
  {
   "cell_type": "code",
   "execution_count": 35,
   "metadata": {},
   "outputs": [
    {
     "name": "stdout",
     "output_type": "stream",
     "text": [
      "The area of tirangel with length 5 and Hieght 6 is 15.0 sq.m\n"
     ]
    }
   ],
   "source": [
    "print(f\"The area of tirangel with length {l} and Hieght {h} is {area} sq.m\")"
   ]
  },
  {
   "cell_type": "code",
   "execution_count": 43,
   "metadata": {},
   "outputs": [],
   "source": [
    "def calcAvg(tval,oval):\n",
    "    avg=oval/tval\n",
    "    per=avg*100\n",
    "\n",
    "\n",
    "    return per,avg,tval,oval    \n",
    "\n"
   ]
  },
  {
   "cell_type": "code",
   "execution_count": 48,
   "metadata": {},
   "outputs": [
    {
     "name": "stdout",
     "output_type": "stream",
     "text": [
      "The avarage of value 500,450 is 0.9 and percentage is 90.0%\n"
     ]
    }
   ],
   "source": [
    "calcAvg(200,120)\n",
    "per,avg,tval,oval=calcAvg(500,450)\n",
    "\n",
    "print(f\"The avarage of value {tval},{oval} is {avg} and percentage is {per}%\")"
   ]
  },
  {
   "cell_type": "code",
   "execution_count": 51,
   "metadata": {},
   "outputs": [],
   "source": [
    "def calGrade():\n",
    "    avg1=calcAvg(500,450)\n",
    "    perc=avg*100\n",
    "    if perc<90:\n",
    "        grade=\"B\"\n",
    "    elif perc<=40:\n",
    "        grade=\"Not Success\"\n",
    "    else:\n",
    "        grade=\"A+\"\n",
    "    return grade"
   ]
  },
  {
   "cell_type": "code",
   "execution_count": 52,
   "metadata": {},
   "outputs": [
    {
     "name": "stdout",
     "output_type": "stream",
     "text": [
      "A+\n"
     ]
    }
   ],
   "source": [
    "grades=calGrade()\n",
    "print(grades)"
   ]
  },
  {
   "cell_type": "code",
   "execution_count": 53,
   "metadata": {},
   "outputs": [],
   "source": [
    "#Default Parameters \n",
    "\n",
    "def salaryCal(basic,alwnc,perBonus=0,):\n",
    "    gross=basic+alwnc+perBonus\n",
    "\n",
    "    return gross\n"
   ]
  },
  {
   "cell_type": "code",
   "execution_count": 55,
   "metadata": {},
   "outputs": [
    {
     "data": {
      "text/plain": [
       "52100"
      ]
     },
     "execution_count": 55,
     "metadata": {},
     "output_type": "execute_result"
    }
   ],
   "source": [
    "salaryCal(50000,1100)   "
   ]
  },
  {
   "cell_type": "code",
   "execution_count": 56,
   "metadata": {},
   "outputs": [
    {
     "name": "stdout",
     "output_type": "stream",
     "text": [
      "\n"
     ]
    }
   ],
   "source": [
    "print()"
   ]
  },
  {
   "cell_type": "code",
   "execution_count": null,
   "metadata": {},
   "outputs": [],
   "source": []
  }
 ],
 "metadata": {
  "kernelspec": {
   "display_name": "Python 3.9.12 ('base')",
   "language": "python",
   "name": "python3"
  },
  "language_info": {
   "codemirror_mode": {
    "name": "ipython",
    "version": 3
   },
   "file_extension": ".py",
   "mimetype": "text/x-python",
   "name": "python",
   "nbconvert_exporter": "python",
   "pygments_lexer": "ipython3",
   "version": "3.9.12"
  },
  "orig_nbformat": 4,
  "vscode": {
   "interpreter": {
    "hash": "8701f4f1da9bd022d51fabb334d76856c938e37aa8ec8099d20e0015f9d5ebaa"
   }
  }
 },
 "nbformat": 4,
 "nbformat_minor": 2
}
