{
 "cells": [
  {
   "cell_type": "markdown",
   "id": "ac6f64a4",
   "metadata": {},
   "source": [
    "##### Task1: Mean \n",
    "Breifly decribe the term <b>Mean</b> (<i>dont write formula that sum of all numbers divide by total numbers) </i>\n",
    "Try to present some statistical view of mean(Average).\n",
    "You need to find the mean Average of the array(list). Not built-in function is allowed to use. \n",
    "\n",
    "Example : if user supplies a list [2,3,4,5,5,4,6,7,8,9]\n",
    "\n",
    "The output should be:\n",
    "\n",
    "\n",
    "The mean of the array [2,3,4,5,5,4,6,7,8,9] is 5.3"
   ]
  },
  {
   "cell_type": "code",
   "execution_count": 37,
   "id": "93002a67",
   "metadata": {},
   "outputs": [
    {
     "name": "stdout",
     "output_type": "stream",
     "text": [
      "[2, 3, 4, 5, 5, 4, 6, 7, 8, 9]\n",
      "Mean : 5.3\n"
     ]
    }
   ],
   "source": [
    "#Your Code goes here\n",
    "num_list=[]\n",
    "flag=True\n",
    "\n",
    "while flag:\n",
    "    num=int(input(\"Enter a Number: \"))\n",
    "    if num==0:\n",
    "        flag=False\n",
    "    else:\n",
    "        num_list.append(num)\n",
    "        \n",
    "\n",
    "print(num_list)        \n",
    "n1=sum(num_list)\n",
    "n=len(num_list)\n",
    "mean=n1/n\n",
    "#counts=sum(num)\n",
    "#mean=counts/Len\n",
    "\n",
    "print(f\"Mean : {mean}\")\n",
    "\n"
   ]
  },
  {
   "cell_type": "markdown",
   "id": "52bedbb9",
   "metadata": {},
   "source": [
    "#### Task2: Median\n",
    "    \n",
    "Breifly decribe the term <b>Median</b> (<i>dont write mathematical formula</i>)\n",
    "\n",
    "You need to find the Median of the array(list). Not built-in function is allowed to use.\n",
    "\n",
    "Example : if user supplies a list [2,3,4,5,5,4,6,7,8,9]\n",
    "\n",
    "The output should be:\n",
    "\n",
    "The median of the array [2,3,4,5,5,4,6,7,8,9] is 5.\n",
    "    "
   ]
  },
  {
   "cell_type": "code",
   "execution_count": 45,
   "id": "0f10f151",
   "metadata": {},
   "outputs": [
    {
     "name": "stdout",
     "output_type": "stream",
     "text": [
      "[42, 38, 29, 37, 40, 33, 41]\n",
      "Sorted List [29, 33, 37, 38, 40, 41, 42]\n",
      "Len 7\n",
      "Mmedian is 38 and its in 4th Term\n"
     ]
    }
   ],
   "source": [
    "#Your code goes here \n",
    "num_list=[]\n",
    "flag=True\n",
    "\n",
    "while flag:\n",
    "    num=int(input(\"Enter a Number: \"))\n",
    "    if num==0:\n",
    "        flag=False\n",
    "    else:\n",
    "        num_list.append(num)\n",
    "\n",
    "print(num_list)\n",
    "num_list.sort()\n",
    "print(f\"Sorted List {num_list}\")\n",
    "n1=sum(num_list)\n",
    "n=len(num_list)\n",
    "print(f\"Len {n}\")\n",
    "if n%2==0:\n",
    "    m1=num_list[n//2]\n",
    "    m2=num_list[n//2-1]\n",
    "    m=(m1+m2)/2\n",
    "else:\n",
    "     m=num_list[n//2]\n",
    "\n",
    "term=(n+1)//2\n",
    "print(f\"Mmedian is {str(m)} and its in {term}th Term\")\n"
   ]
  },
  {
   "cell_type": "markdown",
   "id": "41484d7c",
   "metadata": {},
   "source": [
    "#### Task3: Mode \n",
    "Breifly decribe the term <b>Mode</b> (<i>dont write mathematical formula</i>)\n",
    "\n",
    "You need to find the Mode of the array(list). Not built-in function is allowed to use.\n",
    "\n",
    "Example : if user supplies a list [2,3,4,5,3,4,6,7,3,9]\n",
    "\n",
    "The output should be:\n",
    "\n",
    "The median of the array [2,3,4,5,3,4,6,7,8,3] is 3."
   ]
  },
  {
   "cell_type": "code",
   "execution_count": 6,
   "id": "e34c18f9",
   "metadata": {},
   "outputs": [],
   "source": [
    "# Your code goes here "
   ]
  },
  {
   "cell_type": "markdown",
   "id": "ad6fee2a",
   "metadata": {},
   "source": [
    "#### Task4: Sorting an array in ascending order\n",
    "If user supplies an array(list) like arr = [5, 2, 8, 7, 1]. \n",
    "\n",
    "\n",
    "The output should be like:\n",
    "\n",
    "Elements of original array: \n",
    "5 2 8 7 1 \n",
    "\n",
    "Elements of array sorted in ascending order: \n",
    "1 2 5 7 8 \n",
    "\n",
    "Note: We need to write our own sorting algorithm using sort function of list is not acceptable."
   ]
  },
  {
   "cell_type": "code",
   "execution_count": 7,
   "id": "c857c8ba",
   "metadata": {},
   "outputs": [],
   "source": [
    "#Your code goes here "
   ]
  },
  {
   "cell_type": "markdown",
   "id": "b3134432",
   "metadata": {},
   "source": [
    "#### Task5: Sorting an array in descending order\n",
    "\n",
    "If user supplies an array(list) like arr = [5, 2, 8, 7, 1]. \n",
    "\n",
    "\n",
    "The output should be like:\n",
    "\n",
    "Elements of original array: \n",
    "5 2 8 7 1 \n",
    "\n",
    "Elements of array sorted in ascending order: \n",
    "8 7 5 2 1 \n",
    "\n",
    "Note: We need to write our own sorting algorithm. Using sort function of list is not acceptable.\n"
   ]
  },
  {
   "cell_type": "code",
   "execution_count": 9,
   "id": "70452f62",
   "metadata": {},
   "outputs": [],
   "source": [
    "#Your code goes here "
   ]
  },
  {
   "cell_type": "markdown",
   "id": "fe5691a5",
   "metadata": {},
   "source": [
    "#### Task6: Finding the max of the inputted array \n",
    "\n",
    "If user supplies an array(list) like arr = [5, 2, 8, 7, 1]. \n",
    "\n",
    "\n",
    "The output should be like:\n",
    "\n",
    "Max value in the array is 8\n",
    "\n",
    "Note: We need to write our own max algorithm. use of python max function is not acceptable. "
   ]
  },
  {
   "cell_type": "code",
   "execution_count": null,
   "id": "89ab79e3",
   "metadata": {},
   "outputs": [],
   "source": [
    "# Your code goes here"
   ]
  },
  {
   "cell_type": "markdown",
   "id": "04c3bb05",
   "metadata": {},
   "source": [
    "#### Task7: Finding the min of the inputted array\n",
    "If user supplies an array(list) like arr = [5, 2, 8, 7, 1].\n",
    "\n",
    "The output should be like:\n",
    "\n",
    "Min value in the array is 1\n",
    "\n",
    "Note: We need to write our own min algorithm. use of python min function is not acceptable."
   ]
  },
  {
   "cell_type": "code",
   "execution_count": 10,
   "id": "36abc9e4",
   "metadata": {},
   "outputs": [],
   "source": [
    "#Your code goes here "
   ]
  },
  {
   "cell_type": "code",
   "execution_count": null,
   "id": "7c856b2b",
   "metadata": {},
   "outputs": [],
   "source": []
  }
 ],
 "metadata": {
  "kernelspec": {
   "display_name": "Python 3.10.5 64-bit",
   "language": "python",
   "name": "python3"
  },
  "language_info": {
   "codemirror_mode": {
    "name": "ipython",
    "version": 3
   },
   "file_extension": ".py",
   "mimetype": "text/x-python",
   "name": "python",
   "nbconvert_exporter": "python",
   "pygments_lexer": "ipython3",
   "version": "3.10.5"
  },
  "vscode": {
   "interpreter": {
    "hash": "7db6fb53febdc3196686046b12f327dc4c349bad215f9d53031f3baf90b60ac4"
   }
  }
 },
 "nbformat": 4,
 "nbformat_minor": 5
}
