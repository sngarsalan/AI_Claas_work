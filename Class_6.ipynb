{
 "cells": [
  {
   "cell_type": "markdown",
   "metadata": {},
   "source": [
    "#Loops\n",
    "-For Loop\n",
    "-While Loop\n"
   ]
  },
  {
   "cell_type": "code",
   "execution_count": 5,
   "metadata": {},
   "outputs": [
    {
     "name": "stdout",
     "output_type": "stream",
     "text": [
      "1 Pakistan\n",
      "2 Pakistan\n",
      "3 Pakistan\n",
      "4 Pakistan\n",
      "5 Pakistan\n",
      "6 Pakistan\n",
      "7 Pakistan\n",
      "8 Pakistan\n",
      "9 Pakistan\n",
      "10 Pakistan\n"
     ]
    }
   ],
   "source": [
    "for i in range(1,11):\n",
    "    print(i,\"Pakistan\")"
   ]
  },
  {
   "cell_type": "code",
   "execution_count": 8,
   "metadata": {},
   "outputs": [
    {
     "name": "stdout",
     "output_type": "stream",
     "text": [
      "ARSALAN\n",
      "RAHIL\n",
      "MOHIB\n",
      "IRFAN\n",
      "SHEHZAD\n",
      "UZAIR\n"
     ]
    }
   ],
   "source": [
    "students=[\"Arsalan\",\"Rahil\",\"Mohib\",\"Irfan\",\"Shehzad\",\"Uzair\"]\n",
    "\n",
    "for student in students:\n",
    "    print(student.upper())      \n"
   ]
  },
  {
   "cell_type": "code",
   "execution_count": 25,
   "metadata": {},
   "outputs": [
    {
     "name": "stdout",
     "output_type": "stream",
     "text": [
      "[1, 4, 7, 10, 13, 16, 19, 22, 25, 28, 31, 34, 37, 40, 43, 46, 49]\n"
     ]
    }
   ],
   "source": [
    "from tkinter import Y\n",
    "\n",
    "\n",
    "x=[]\n",
    "for i in range(1,50,3):\n",
    "    x.append(i)\n",
    "print(x)"
   ]
  },
  {
   "cell_type": "markdown",
   "metadata": {},
   "source": [
    "Break   \n",
    "Continue"
   ]
  },
  {
   "cell_type": "code",
   "execution_count": 37,
   "metadata": {},
   "outputs": [
    {
     "name": "stdout",
     "output_type": "stream",
     "text": [
      "ARSALAN\n"
     ]
    }
   ],
   "source": [
    "for student in students:\n",
    "    if student.endswith(\"d\"):\n",
    "        break\n",
    "    print(student.upper())\n"
   ]
  },
  {
   "cell_type": "code",
   "execution_count": 41,
   "metadata": {},
   "outputs": [
    {
     "name": "stdout",
     "output_type": "stream",
     "text": [
      "1\n",
      "3\n",
      "5\n",
      "7\n",
      "9\n"
     ]
    }
   ],
   "source": [
    "for a in range(0,10):\n",
    "    if a%2==0:\n",
    "        continue\n",
    "    print(a)\n",
    "\n"
   ]
  },
  {
   "cell_type": "code",
   "execution_count": 46,
   "metadata": {},
   "outputs": [
    {
     "name": "stdout",
     "output_type": "stream",
     "text": [
      "1\n",
      "2\n",
      "3\n",
      "4\n",
      "5\n",
      "6\n",
      "7\n",
      "8\n",
      "9\n",
      "10\n"
     ]
    }
   ],
   "source": [
    "for a in range(0,11):\n",
    "    if a==0:\n",
    "        continue\n",
    "    print(a)"
   ]
  },
  {
   "cell_type": "markdown",
   "metadata": {},
   "source": [
    "Write a Program that takes 5 value from user classify them as Odd or Even "
   ]
  },
  {
   "cell_type": "code",
   "execution_count": 61,
   "metadata": {},
   "outputs": [
    {
     "name": "stdout",
     "output_type": "stream",
     "text": [
      "Even = [6, 8] and Odd = [3, 3, 9]\n"
     ]
    }
   ],
   "source": [
    "\n",
    "Odd=[]\n",
    "Even=[]\n",
    "for i in range(5):\n",
    "    num=int(input(\"Input value:\"))\n",
    "    if num%2==0:\n",
    "        Even.append(num)\n",
    "    else:\n",
    "        Odd.append(num) \n",
    "print(f\"Even = {Even} and Odd = {Odd}\")"
   ]
  },
  {
   "cell_type": "markdown",
   "metadata": {},
   "source": [
    "List Comprehension"
   ]
  },
  {
   "cell_type": "code",
   "execution_count": 66,
   "metadata": {},
   "outputs": [
    {
     "name": "stdout",
     "output_type": "stream",
     "text": [
      "[1, 3, 5, 7, 9, 11, 13, 15, 17, 19]\n"
     ]
    }
   ],
   "source": [
    "odd=[]\n",
    "for num in range(1,21):\n",
    "    if num%2!=0:\n",
    "        odd.append(num)\n",
    "print(odd)"
   ]
  },
  {
   "cell_type": "code",
   "execution_count": 68,
   "metadata": {},
   "outputs": [
    {
     "data": {
      "text/plain": [
       "[1, 3, 5, 7, 9, 11, 13, 15, 17, 19]"
      ]
     },
     "execution_count": 68,
     "metadata": {},
     "output_type": "execute_result"
    }
   ],
   "source": [
    "[a for a in range(1,21) if a%2!=0]"
   ]
  },
  {
   "cell_type": "code",
   "execution_count": 70,
   "metadata": {},
   "outputs": [
    {
     "data": {
      "text/plain": [
       "[2, 4, 6, 8, 10, 12, 14, 16, 18, 20]"
      ]
     },
     "execution_count": 70,
     "metadata": {},
     "output_type": "execute_result"
    }
   ],
   "source": [
    "[a for a in range(1,21) if a%2==0]"
   ]
  },
  {
   "cell_type": "code",
   "execution_count": 79,
   "metadata": {},
   "outputs": [
    {
     "data": {
      "text/plain": [
       "[None,\n",
       " None,\n",
       " None,\n",
       " None,\n",
       " None,\n",
       " None,\n",
       " None,\n",
       " None,\n",
       " None,\n",
       " None,\n",
       " None,\n",
       " None,\n",
       " None,\n",
       " None,\n",
       " None,\n",
       " None,\n",
       " None,\n",
       " None,\n",
       " None,\n",
       " None]"
      ]
     },
     "execution_count": 79,
     "metadata": {},
     "output_type": "execute_result"
    }
   ],
   "source": [
    "evens=[];odds=[]\n",
    "\n",
    "[evens.append(i) if i%2==0 else odds.append(i) for i in range(1,21)]"
   ]
  },
  {
   "cell_type": "code",
   "execution_count": 82,
   "metadata": {},
   "outputs": [
    {
     "name": "stdout",
     "output_type": "stream",
     "text": [
      "Even [2, 4, 6, 8, 10, 12, 14, 16, 18, 20]\n",
      "Odd [1, 3, 5, 7, 9, 11, 13, 15, 17, 19]\n"
     ]
    }
   ],
   "source": [
    "print(\"Even\",evens)\n",
    "print(\"Odd\",odds)"
   ]
  },
  {
   "cell_type": "code",
   "execution_count": 84,
   "metadata": {},
   "outputs": [
    {
     "name": "stdout",
     "output_type": "stream",
     "text": [
      "Even = [6, 8, 6, 8, 8, 10, 18, 20, 26, 36] and Odd = [3, 3, 9, 1, 7, 15, 23, 25, 25]\n"
     ]
    }
   ],
   "source": [
    "nums=input(\"Input value:\").split(\",\")\n",
    "for num in nums:\n",
    "    num=int(num)\n",
    "    if num%2==0:\n",
    "        Even.append(num)\n",
    "    else:\n",
    "        Odd.append(num) \n",
    "print(f\"Even = {Even} and Odd = {Odd}\")"
   ]
  },
  {
   "cell_type": "code",
   "execution_count": 92,
   "metadata": {},
   "outputs": [
    {
     "name": "stdout",
     "output_type": "stream",
     "text": [
      "Even = [2] and Odd = []\n"
     ]
    }
   ],
   "source": [
    "Even=[]\n",
    "Odd=[]\n",
    "nums=input(\"Input value:\").split(\",\")\n",
    "if len(nums[0])==0:\n",
    "    print(\"Enter any number:\")\n",
    "else:\n",
    "\n",
    "    for num in nums:\n",
    "        num=int(num)\n",
    "        if num%2==0:\n",
    "            Even.append(num)\n",
    "        else:\n",
    "            Odd.append(num) \n",
    "    print(f\"Even = {Even} and Odd = {Odd}\")\n"
   ]
  },
  {
   "cell_type": "markdown",
   "metadata": {},
   "source": [
    "While\n"
   ]
  },
  {
   "cell_type": "code",
   "execution_count": 96,
   "metadata": {},
   "outputs": [
    {
     "name": "stdout",
     "output_type": "stream",
     "text": [
      "10 output\n",
      "9 output\n",
      "8 output\n",
      "7 output\n",
      "6 output\n",
      "5 output\n",
      "4 output\n",
      "3 output\n",
      "2 output\n",
      "1 output\n"
     ]
    }
   ],
   "source": [
    "a=10\n",
    "while a>0:\n",
    "    \n",
    "    print(a,\"output\")\n",
    "    a-=1"
   ]
  },
  {
   "cell_type": "code",
   "execution_count": 98,
   "metadata": {},
   "outputs": [
    {
     "data": {
      "text/plain": [
       "[]"
      ]
     },
     "execution_count": 98,
     "metadata": {},
     "output_type": "execute_result"
    }
   ],
   "source": [
    "guest_list=[]\n",
    "flag=True\n",
    "while flag:\n",
    "    guest_name=input(\"Enter a Guest Name or Press q to exit:\")\n",
    "    if guest_name==\"q\":\n",
    "        flag= False\n",
    "    else:\n",
    "        guest_list.append(guest_name)\n",
    "\n",
    "guest_list\n",
    "\n"
   ]
  },
  {
   "cell_type": "markdown",
   "metadata": {},
   "source": [
    "Dictionary"
   ]
  },
  {
   "cell_type": "code",
   "execution_count": 103,
   "metadata": {},
   "outputs": [
    {
     "name": "stdout",
     "output_type": "stream",
     "text": [
      "Arsalan\n",
      "1022\n"
     ]
    }
   ],
   "source": [
    "std={\"Name\":\"Arsalan\",\"ID\":1022,\"Course\":\"AI\",\"Status\":True}\n",
    "\n",
    "print(std['Name'])\n",
    "print(std['ID'])\n",
    "\n",
    "\n"
   ]
  },
  {
   "cell_type": "code",
   "execution_count": 105,
   "metadata": {},
   "outputs": [
    {
     "name": "stdout",
     "output_type": "stream",
     "text": [
      "Arsalan\n",
      "1022\n",
      "AI\n",
      "True\n"
     ]
    }
   ],
   "source": [
    "for key in std.keys():\n",
    "    print(std[key])\n"
   ]
  },
  {
   "cell_type": "code",
   "execution_count": 107,
   "metadata": {},
   "outputs": [
    {
     "name": "stdout",
     "output_type": "stream",
     "text": [
      "Arsalan\n",
      "1022\n",
      "AI\n",
      "True\n"
     ]
    }
   ],
   "source": [
    "for value in std.values():\n",
    "    print(value)\n",
    "    \n"
   ]
  },
  {
   "cell_type": "code",
   "execution_count": 108,
   "metadata": {},
   "outputs": [
    {
     "name": "stdout",
     "output_type": "stream",
     "text": [
      "Name Arsalan\n",
      "ID 1022\n",
      "Course AI\n",
      "Status True\n"
     ]
    }
   ],
   "source": [
    "for k,v in std.items():\n",
    "    print(k,v)\n"
   ]
  },
  {
   "cell_type": "markdown",
   "metadata": {},
   "source": [
    "Packing \n",
    "Unpacking"
   ]
  },
  {
   "cell_type": "code",
   "execution_count": 109,
   "metadata": {},
   "outputs": [
    {
     "name": "stdout",
     "output_type": "stream",
     "text": [
      "22\n",
      "23\n"
     ]
    }
   ],
   "source": [
    "alist=[22,23]\n",
    "#packing\n",
    "\n",
    "san,val=alist\n",
    "#unpacking\n",
    "print(san)\n",
    "print(val) "
   ]
  },
  {
   "cell_type": "code",
   "execution_count": 115,
   "metadata": {},
   "outputs": [
    {
     "data": {
      "text/plain": [
       "(100, 500)"
      ]
     },
     "execution_count": 115,
     "metadata": {},
     "output_type": "execute_result"
    }
   ],
   "source": [
    "a=100,500\n",
    "a"
   ]
  },
  {
   "cell_type": "code",
   "execution_count": null,
   "metadata": {},
   "outputs": [],
   "source": []
  }
 ],
 "metadata": {
  "kernelspec": {
   "display_name": "Python 3.10.5 64-bit",
   "language": "python",
   "name": "python3"
  },
  "language_info": {
   "codemirror_mode": {
    "name": "ipython",
    "version": 3
   },
   "file_extension": ".py",
   "mimetype": "text/x-python",
   "name": "python",
   "nbconvert_exporter": "python",
   "pygments_lexer": "ipython3",
   "version": "3.10.5"
  },
  "orig_nbformat": 4,
  "vscode": {
   "interpreter": {
    "hash": "7db6fb53febdc3196686046b12f327dc4c349bad215f9d53031f3baf90b60ac4"
   }
  }
 },
 "nbformat": 4,
 "nbformat_minor": 2
}
