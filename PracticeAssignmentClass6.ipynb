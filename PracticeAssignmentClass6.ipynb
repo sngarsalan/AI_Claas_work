{
 "cells": [
  {
   "cell_type": "markdown",
   "id": "b5ec9d3e",
   "metadata": {},
   "source": [
    "### Task1:\n",
    "You need to code a program that prints numbers from 1 to 20 except multiple of 2 & 3.\n",
    "\n",
    "Hint: use \"modulo\" operator and \"and/or\" operators"
   ]
  },
  {
   "cell_type": "code",
   "execution_count": 7,
   "id": "a94f69b5",
   "metadata": {},
   "outputs": [
    {
     "name": "stdout",
     "output_type": "stream",
     "text": [
      "[1, 5, 7, 11, 13, 17, 19]\n"
     ]
    }
   ],
   "source": [
    "# Your code goes here\n",
    "a=[]\n",
    "for i in range(0,21):\n",
    "    if i%2!=0 and i%3!=0:\n",
    "        a.append(i)\n",
    "print(a)\n"
   ]
  },
  {
   "cell_type": "markdown",
   "id": "b123a205",
   "metadata": {},
   "source": [
    "### Task2:\n",
    "Write a program that keep on accepting number from the user until user enters Zero. Display the sum and average of all the numbers.\n",
    "\n",
    "Hint: Use while loop with flag. "
   ]
  },
  {
   "cell_type": "code",
   "execution_count": 1,
   "id": "29296c1c",
   "metadata": {},
   "outputs": [
    {
     "name": "stdout",
     "output_type": "stream",
     "text": [
      "[2, 2, 3]\n",
      "Number Sum are 7 and Average is 2.3333333333333335\n"
     ]
    }
   ],
   "source": [
    "# Your code goes here\n",
    "from audioop import avg\n",
    "from itertools import count\n",
    "\n",
    "\n",
    "num_list=[]\n",
    "flag=True\n",
    "\n",
    "while flag:\n",
    "    num=int(input(\"Enter a Number: \"))\n",
    "    if num==0:\n",
    "        flag=False\n",
    "    else:\n",
    "        num_list.append(num)\n",
    "       \n",
    "\n",
    "print(num_list)\n",
    "leng=len(num_list)\n",
    "counts=sum(num_list)\n",
    "num_avg=counts/leng\n",
    "\n",
    "print(f\"Number Sum are {counts} and Average is {num_avg}\")"
   ]
  },
  {
   "cell_type": "markdown",
   "id": "9ea5024e",
   "metadata": {},
   "source": [
    "### Task3:\n",
    "Accept 10 numbers from the user and display their average.\n",
    "\n",
    "Hint: Use loop for accepting numbers or use split to take input in one go"
   ]
  },
  {
   "cell_type": "code",
   "execution_count": null,
   "id": "5bebbbe8",
   "metadata": {},
   "outputs": [],
   "source": [
    "# Your code goes here"
   ]
  },
  {
   "cell_type": "markdown",
   "id": "e17466dd",
   "metadata": {},
   "source": [
    "### Task4:\n",
    "Write a program to display sum of odd numbers and even numbers that fall between 12 and 37(including both numbers)\n"
   ]
  },
  {
   "cell_type": "code",
   "execution_count": null,
   "id": "d5715b5c",
   "metadata": {},
   "outputs": [],
   "source": [
    "# Your code goes here"
   ]
  },
  {
   "cell_type": "markdown",
   "id": "4c64217d",
   "metadata": {},
   "source": [
    "### Task5:\n",
    "Write a program to print table of a number accepted from user.\n"
   ]
  },
  {
   "cell_type": "raw",
   "id": "0bf864bf",
   "metadata": {},
   "source": [
    "\n",
    "Output: \n",
    "7 * 1 = 7\n",
    "7 * 2 = 14\n",
    "7 * 3 = 21\n",
    "7 * 4 = 28\n",
    "7 * 5 = 35\n",
    "7 * 6 = 42\n",
    "7 * 7 = 49\n",
    "7 * 8 = 56\n",
    "7 * 9 = 63\n",
    "7 * 10 = 70\n",
    "           "
   ]
  },
  {
   "cell_type": "code",
   "execution_count": null,
   "id": "3305bb3d",
   "metadata": {},
   "outputs": [],
   "source": [
    "# Your code goes here"
   ]
  },
  {
   "cell_type": "markdown",
   "id": "fc08df86",
   "metadata": {},
   "source": [
    "### Task6:\n",
    "Write a program to display product of the digits of a number accepted from the user.\n",
    "\n",
    "If user inputs:123 Outputs 6\n",
    "\n",
    "If user inputs: 567 Outputs 210"
   ]
  },
  {
   "cell_type": "code",
   "execution_count": null,
   "id": "e793d4c9",
   "metadata": {},
   "outputs": [],
   "source": [
    "# Your code goes here"
   ]
  },
  {
   "cell_type": "markdown",
   "id": "f041397e",
   "metadata": {},
   "source": [
    "### Task7: \n",
    "Write a program to print first 10 even numbers in reverse order."
   ]
  },
  {
   "cell_type": "code",
   "execution_count": null,
   "id": "b639f15e",
   "metadata": {},
   "outputs": [],
   "source": [
    "# Your code goes here"
   ]
  },
  {
   "cell_type": "markdown",
   "id": "37b679bb",
   "metadata": {},
   "source": [
    "### Task8:\n",
    "Write a program to find the sum of the digits of a number accepted from user\n",
    "\n",
    "If user inputs:123 Outputs 6\n",
    "\n",
    "If user inputs: 567 Outputs 18"
   ]
  },
  {
   "cell_type": "code",
   "execution_count": null,
   "id": "adef66ce",
   "metadata": {},
   "outputs": [],
   "source": [
    "# Your code goes here"
   ]
  },
  {
   "cell_type": "markdown",
   "id": "8b87f377",
   "metadata": {},
   "source": [
    "### Task9:\n",
    "Write a program that accepts a sentence and calculate the number of letters and digits.\n",
    "\n",
    "Suppose the following input is supplied to the program:\n",
    "\n",
    "hello world! 123\n",
    "\n",
    "Then, the output should be:\n",
    "\n",
    "LETTERS 10\n",
    "\n",
    "DIGITS 3\n"
   ]
  },
  {
   "cell_type": "code",
   "execution_count": null,
   "id": "73835ab3",
   "metadata": {},
   "outputs": [],
   "source": [
    "# Your code goes here"
   ]
  },
  {
   "cell_type": "markdown",
   "id": "a25b412b",
   "metadata": {},
   "source": [
    "### Task10: \n",
    "You need to trace and make a list of all such numbers from1000 to 3000 in which all the digits are even numbers."
   ]
  },
  {
   "cell_type": "code",
   "execution_count": null,
   "id": "a3c27a5e",
   "metadata": {},
   "outputs": [],
   "source": [
    "# Your code goes here"
   ]
  },
  {
   "cell_type": "markdown",
   "id": "ddc08744",
   "metadata": {},
   "source": [
    "### Task11: \n",
    "You need to write a program that counts the number of vowels in a given sentence as input from console. \n",
    "\n",
    "Suppose the following input is supplied to the program:\n",
    "\n",
    "Hello world! Practice makes perfect\n",
    "\n",
    "Then, the output should be:\n",
    "\n",
    "a appeared 2 times\n",
    "\n",
    "e appeared 5 times\n",
    "\n",
    "i appeared  1 time\n",
    "\n",
    "o appeared 2 times\n",
    "\n",
    "u appeared 0 time\n"
   ]
  },
  {
   "cell_type": "code",
   "execution_count": null,
   "id": "0ed960fd",
   "metadata": {},
   "outputs": [],
   "source": [
    "# Your code goes here"
   ]
  },
  {
   "cell_type": "markdown",
   "id": "45a0c3c4",
   "metadata": {},
   "source": [
    "### Task12:\n",
    "You need to write a program that takes sequence of lines as input and prints the lines after making all characters in the sentence capitalized.\n",
    "\n",
    "Suppose the following input is supplied to the program:\n",
    "\n",
    "Hello world\n",
    "\n",
    "Practice makes perfect\n",
    "\n",
    "Then, the output should be:\n",
    "\n",
    "HELLO WORLD\n",
    "PRACTICE MAKES PERFECT"
   ]
  },
  {
   "cell_type": "code",
   "execution_count": null,
   "id": "029fc3d6",
   "metadata": {},
   "outputs": [],
   "source": [
    "# Your code goes here"
   ]
  },
  {
   "cell_type": "markdown",
   "id": "a374068f",
   "metadata": {},
   "source": [
    "### Task13:\n",
    "You need to write a code that takes a comma separated sequence of words as input and prints the words in a comma-separated sequence after sorting them alphabetically.\n",
    "\n",
    "Suppose the following input is supplied to the program:\n",
    "\n",
    "without,hello,bag,world\n",
    "\n",
    "Then, the output should be:\n",
    "\n",
    "bag,hello,without,world"
   ]
  },
  {
   "cell_type": "code",
   "execution_count": null,
   "id": "488509b9",
   "metadata": {},
   "outputs": [],
   "source": [
    "# Your code goes here"
   ]
  },
  {
   "cell_type": "markdown",
   "id": "0d9422e7",
   "metadata": {},
   "source": [
    "### Task14:\n",
    "You need code a program that calculates and prints the value according to the given formula:\n",
    "P = Square root of [(2 * A * B)/C]\n",
    "\n",
    "Following are the fixed values of A and B:\n",
    "\n",
    "A is 50. B is 30.\n",
    "\n",
    "The values of the literal C should be taken as console input to your program in a comma-separated sequence.\n",
    "\n",
    "Example:\n",
    "Let us assume the following comma separated input sequence is given to the program:\n",
    "100,150,180\n",
    "\n",
    "The output of the program should be:\n",
    "18,22,24"
   ]
  },
  {
   "cell_type": "code",
   "execution_count": null,
   "id": "1b6731be",
   "metadata": {},
   "outputs": [],
   "source": [
    "# Your code goes here"
   ]
  },
  {
   "cell_type": "markdown",
   "id": "87f9f13d",
   "metadata": {},
   "source": [
    "### Task15:\n",
    "You need to write a ocde in python that finds all such numbers which are divisible by 7 but are not a multiple of 5,\n",
    "between 2000 and 3200 (both included).\n",
    "\n",
    "Print the obtained numbers in a comma-separated sequence on a single line\n",
    "\n",
    "Hint: modulo operator, and/or operator, for loop /while loop"
   ]
  },
  {
   "cell_type": "code",
   "execution_count": 2,
   "id": "ba3d9d96",
   "metadata": {},
   "outputs": [],
   "source": [
    "# Your code goes here"
   ]
  },
  {
   "cell_type": "markdown",
   "id": "f75c81d1",
   "metadata": {},
   "source": [
    "### Task16:\n",
    "With a given integral number n, write a program to generate a dictionary that contains (i, i*i) such that is an integral number between 1 and n (both included). and then the program should print the dictionary.\n",
    "\n",
    "Suppose the following input is supplied to the program:\n",
    "\n",
    "8\n",
    "\n",
    "Then, the output should be:\n",
    "\n",
    "{1: 1, 2: 4, 3: 9, 4: 16, 5: 25, 6: 36, 7: 49, 8: 64}"
   ]
  },
  {
   "cell_type": "code",
   "execution_count": null,
   "id": "451bacfc",
   "metadata": {},
   "outputs": [],
   "source": [
    "# Your code goes here"
   ]
  },
  {
   "cell_type": "markdown",
   "id": "bd2b39a0",
   "metadata": {},
   "source": [
    "### Task17:\n",
    "You need to write a code which accepts a sequence of comma separated 4 digit binary numbers as its input and then check whether they are divisible by 5 or not. \n",
    "\n",
    "The numbers that are divisible by 5 are to be printed in a comma separated sequence.\n",
    "\n",
    "Example:\n",
    "\n",
    "0100,0011,1010,1001\n",
    "\n",
    "Then the output should be:\n",
    "1010\n",
    "\n",
    "Reference: \n",
    "1) https://www.datacamp.com/.../python-data-type-conversion\n",
    "\n",
    "2) https://stackoverflow.com/questions/21765779/converting-binary-to-decimal-integer-output?fbclid=IwAR3DD_oiq5pn99IjyxSJgojvB5W6M4JqQtv4EUl_IF_DtmuRXlP-DswcKAA"
   ]
  },
  {
   "cell_type": "code",
   "execution_count": null,
   "id": "d88c2527",
   "metadata": {},
   "outputs": [],
   "source": [
    "# Your code goes here\n"
   ]
  },
  {
   "cell_type": "code",
   "execution_count": null,
   "id": "aab14430",
   "metadata": {},
   "outputs": [],
   "source": []
  }
 ],
 "metadata": {
  "kernelspec": {
   "display_name": "Python 3.10.5 64-bit",
   "language": "python",
   "name": "python3"
  },
  "language_info": {
   "codemirror_mode": {
    "name": "ipython",
    "version": 3
   },
   "file_extension": ".py",
   "mimetype": "text/x-python",
   "name": "python",
   "nbconvert_exporter": "python",
   "pygments_lexer": "ipython3",
   "version": "3.10.5"
  },
  "vscode": {
   "interpreter": {
    "hash": "7db6fb53febdc3196686046b12f327dc4c349bad215f9d53031f3baf90b60ac4"
   }
  }
 },
 "nbformat": 4,
 "nbformat_minor": 5
}
