{
 "cells": [
  {
   "cell_type": "markdown",
   "metadata": {},
   "source": [
    "Functions Continue ......\n",
    "\n",
    "arbitrary number of aurgumment "
   ]
  },
  {
   "cell_type": "code",
   "execution_count": null,
   "metadata": {},
   "outputs": [],
   "source": [
    "def userdetails():\n",
    "    pass"
   ]
  },
  {
   "cell_type": "code",
   "execution_count": 2,
   "metadata": {},
   "outputs": [
    {
     "name": "stdout",
     "output_type": "stream",
     "text": [
      "Hello\n"
     ]
    }
   ],
   "source": [
    "def afunction(values):\n",
    "    print(values)\n",
    "\n",
    "afunction(\"Hello\")"
   ]
  },
  {
   "cell_type": "code",
   "execution_count": 5,
   "metadata": {},
   "outputs": [
    {
     "name": "stdout",
     "output_type": "stream",
     "text": [
      " Hello! Arsalan\n",
      " Hello! Absar\n",
      " Hello! Sarmad\n",
      "('Arsalan', 'Absar', 'Sarmad')\n"
     ]
    }
   ],
   "source": [
    "def afunction(*values):\n",
    "    for name in values:\n",
    "        print(f\" Hello! {name}\")\n",
    "    \n",
    "    print(values)\n",
    "\n",
    "afunction(\"Arsalan\",\"Absar\",\"Sarmad\")"
   ]
  },
  {
   "cell_type": "code",
   "execution_count": 9,
   "metadata": {},
   "outputs": [
    {
     "name": "stdout",
     "output_type": "stream",
     "text": [
      "Sangi\n",
      "002\n",
      "Sultan\n",
      "Sem 4\n",
      "Karachi\n",
      "03212274351\n"
     ]
    }
   ],
   "source": [
    "def userdetails(name,id,*other):\n",
    "    print(name)\n",
    "    print(id)\n",
    "    for x in other:\n",
    "        print(x)\n",
    "\n",
    "userdetails(\"Sangi\",\"002\",\"Sultan\",\"Sem 4\",\"Karachi\",\"03212274351\")"
   ]
  },
  {
   "cell_type": "code",
   "execution_count": 26,
   "metadata": {},
   "outputs": [],
   "source": [
    "students=[\"Asad\",\"Farooq\",\"Tariq\",\"Saqlain\",\"Subhan\"]"
   ]
  },
  {
   "cell_type": "code",
   "execution_count": 27,
   "metadata": {},
   "outputs": [
    {
     "name": "stdout",
     "output_type": "stream",
     "text": [
      "[]\n",
      "['Subhan', 'Saqlain', 'Tariq', 'Farooq', 'Asad']\n"
     ]
    }
   ],
   "source": [
    "\n",
    "\n",
    "def promotrStudents(list_of_st):\n",
    "    promotSt=[]\n",
    "    for st in range(len(list_of_st)):\n",
    "        promotSt.append(list_of_st.pop())\n",
    "    print(list_of_st)\n",
    "    print (promotSt)\n",
    "\n",
    "\n",
    "promotrStudents(students[:]) "
   ]
  },
  {
   "cell_type": "code",
   "execution_count": 39,
   "metadata": {},
   "outputs": [
    {
     "name": "stdout",
     "output_type": "stream",
     "text": [
      "{'location': 'Karachi', 'feild': 'CS'}\n",
      "{'First Name': 'Arsalan', 'Last Name': 'Header', 'location': 'Karachi', 'feild': 'CS'}\n"
     ]
    }
   ],
   "source": [
    "def build_profile(first,last,**user_info):\n",
    "    profile={}\n",
    "    profile[\"First Name\"]=first\n",
    "    profile[\"Last Name\"]=last\n",
    "    \n",
    "    for k,v in user_info.items():\n",
    "        profile[k]=v \n",
    "    \n",
    "    print(user_info)\n",
    "    return profile\n",
    "\n",
    "\n",
    "user_profile=build_profile(\"Arsalan\",\"Header\",location=\"Karachi\",feild=\"CS\")\n",
    "print(user_profile)\n"
   ]
  },
  {
   "cell_type": "code",
   "execution_count": 56,
   "metadata": {},
   "outputs": [
    {
     "name": "stdout",
     "output_type": "stream",
     "text": [
      "{'Artist': 'sng', 'Album': 'avn'}\n",
      "{'Artist': 'sng1', 'Album': 'avn1'}\n",
      "{'Artist': 'sng2', 'Album': 'avn2'}\n"
     ]
    }
   ],
   "source": [
    "def make_album(**artist_info):\n",
    "    \n",
    "    info={}\n",
    "    for k,v in artist_info.items():\n",
    "        info[k]=v\n",
    "    print(info)\n",
    "    return info\n",
    "\n",
    "album1=albums_details=make_album(Artist=\"sng\",Album=\"avn\")\n",
    "album2=albums_details=make_album(Artist=\"sng1\",Album=\"avn1\")\n",
    "album3=albums_details=make_album(Artist=\"sng2\",Album=\"avn2\")\n"
   ]
  },
  {
   "cell_type": "code",
   "execution_count": 57,
   "metadata": {},
   "outputs": [],
   "source": [
    "def make_album_track(trtist,album,track=0):\n",
    "    pass    "
   ]
  },
  {
   "cell_type": "markdown",
   "metadata": {},
   "source": [
    "Modules\n"
   ]
  },
  {
   "cell_type": "code",
   "execution_count": 60,
   "metadata": {},
   "outputs": [],
   "source": [
    "import mymodule"
   ]
  },
  {
   "cell_type": "code",
   "execution_count": 62,
   "metadata": {},
   "outputs": [
    {
     "name": "stdout",
     "output_type": "stream",
     "text": [
      "{'other': 'kch nai '}\n"
     ]
    },
    {
     "data": {
      "text/plain": [
       "{'First Name': 'arsalan', 'Last Name': 'hello', 'other': 'kch nai '}"
      ]
     },
     "execution_count": 62,
     "metadata": {},
     "output_type": "execute_result"
    }
   ],
   "source": [
    "mymodule.build_profile(\"arsalan\",\"hello\",other=\"kch nai \")"
   ]
  },
  {
   "cell_type": "markdown",
   "metadata": {},
   "source": []
  },
  {
   "cell_type": "code",
   "execution_count": 14,
   "metadata": {},
   "outputs": [],
   "source": [
    "%run testmodule.py"
   ]
  },
  {
   "cell_type": "code",
   "execution_count": 18,
   "metadata": {},
   "outputs": [
    {
     "name": "stdout",
     "output_type": "stream",
     "text": [
      "This is calSquire\n"
     ]
    }
   ],
   "source": [
    "import testmodule\n",
    "testmodule.CalSquire()"
   ]
  }
 ],
 "metadata": {
  "kernelspec": {
   "display_name": "Python 3.9.12 ('base')",
   "language": "python",
   "name": "python3"
  },
  "language_info": {
   "codemirror_mode": {
    "name": "ipython",
    "version": 3
   },
   "file_extension": ".py",
   "mimetype": "text/x-python",
   "name": "python",
   "nbconvert_exporter": "python",
   "pygments_lexer": "ipython3",
   "version": "3.9.12"
  },
  "orig_nbformat": 4,
  "vscode": {
   "interpreter": {
    "hash": "8701f4f1da9bd022d51fabb334d76856c938e37aa8ec8099d20e0015f9d5ebaa"
   }
  }
 },
 "nbformat": 4,
 "nbformat_minor": 2
}
