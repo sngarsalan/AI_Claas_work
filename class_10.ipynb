{
 "cells": [
  {
   "cell_type": "markdown",
   "metadata": {},
   "source": [
    "Class 10 - OOPS"
   ]
  },
  {
   "cell_type": "code",
   "execution_count": 2,
   "metadata": {},
   "outputs": [],
   "source": [
    "#__init__  (\"__\" =  called as dunder) "
   ]
  },
  {
   "cell_type": "code",
   "execution_count": 4,
   "metadata": {},
   "outputs": [],
   "source": [
    "class person():\n",
    "    def __init__(self,name,age,skills):\n",
    "        self.name=name\n",
    "        self.age=age\n",
    "        self.skills=skills\n",
    "    "
   ]
  },
  {
   "cell_type": "code",
   "execution_count": 16,
   "metadata": {},
   "outputs": [],
   "source": [
    "p1=person(\"arsalan\",29,\"Python\")            "
   ]
  },
  {
   "cell_type": "code",
   "execution_count": 17,
   "metadata": {},
   "outputs": [
    {
     "name": "stdout",
     "output_type": "stream",
     "text": [
      "arsalan your age is 29 and it is greater then 18\n"
     ]
    }
   ],
   "source": [
    "if p1.age<=18:\n",
    "    print(p1.name)\n",
    "else:\n",
    "    print(f\"{p1.name} your age is {p1.age} and it is greater then 18\")\n"
   ]
  },
  {
   "cell_type": "code",
   "execution_count": 18,
   "metadata": {},
   "outputs": [],
   "source": [
    "#INHERITANCE in OOPS"
   ]
  },
  {
   "cell_type": "code",
   "execution_count": 119,
   "metadata": {},
   "outputs": [],
   "source": [
    "from pyexpat import model\n",
    "\n",
    "\n",
    "class CellPhone():\n",
    "    def __init__(self,model,make,battery):\n",
    "        self.model=model\n",
    "        self.make=make\n",
    "        self.battery=battery \n",
    "    def MakeCall(self):\n",
    "        print(f\" {self.model}is calling\")\n",
    "        return \n",
    "\n",
    "    def RecieveCall(self):\n",
    "        print(f\"{self.model}is Recieve call\")\n",
    "        return\n",
    "    def PlayGame(self):\n",
    "        print(f\" {self.model}is PlayGame\")\n",
    "           "
   ]
  },
  {
   "cell_type": "code",
   "execution_count": 126,
   "metadata": {},
   "outputs": [],
   "source": [
    "class nokia3310(CellPhone): # Inherit CellPhone Class into Nokia3310 class \n",
    "    def __init__(self,model,make,battery,camera,radio,calculator):\n",
    "        super().__init__(model,make,battery)\n",
    "        self.camera=camera\n",
    "        self.radio=radio\n",
    "        self.calculator=calculator\n",
    "    def PlayGame(self):\n",
    "         print(\"Play N3310 Games good\")"
   ]
  },
  {
   "cell_type": "code",
   "execution_count": 127,
   "metadata": {},
   "outputs": [],
   "source": [
    "model1=nokia3310(\"3310\",\"NOKIA\",\"5000 MAH\",\"30MP\",True,\"simple\")\n",
    "model2=nokia3310(\"3310\",\"NOKIA\",\"5500 MAH\",\"50MP\",False,\"Scietific\")\n",
    "\n"
   ]
  },
  {
   "cell_type": "code",
   "execution_count": 128,
   "metadata": {},
   "outputs": [
    {
     "name": "stdout",
     "output_type": "stream",
     "text": [
      "\n",
      "                        CELL PHONE NOKIA\n",
      "                *****************************\n",
      "            Model 1 Battery: 5000 MAH | Model 2 Battery: 5500 MAH\n",
      "\n"
     ]
    }
   ],
   "source": [
    "model1.battery\n",
    "print(f\"\"\"\n",
    "                        CELL PHONE {model1.make}\n",
    "                *****************************\n",
    "            Model 1 Battery: {model1.battery} | Model 2 Battery: {model2.battery}\n",
    "\"\"\")"
   ]
  },
  {
   "cell_type": "code",
   "execution_count": 129,
   "metadata": {},
   "outputs": [],
   "source": [
    "m1=nokia3310(\"3310\",\"NOKIA\",\"5000 MAH\",\"30MP\",True,\"simple\")"
   ]
  },
  {
   "cell_type": "code",
   "execution_count": 130,
   "metadata": {},
   "outputs": [
    {
     "name": "stdout",
     "output_type": "stream",
     "text": [
      " 3310is PlayGame\n",
      "Play N3310 Games good\n"
     ]
    }
   ],
   "source": [
    "obj2=CellPhone(\"3310\",\"NOKIA\",\"5000 MAH\")\n",
    "obj2.PlayGame()\n",
    "m1.PlayGame()\n",
    "#print(p2)"
   ]
  },
  {
   "cell_type": "markdown",
   "metadata": {},
   "source": [
    "Object as Attributes "
   ]
  },
  {
   "cell_type": "code",
   "execution_count": 2,
   "metadata": {},
   "outputs": [],
   "source": [
    "class Car():\n",
    "    def __init__(self,make,model,wheel,color):\n",
    "        self.make=make\n",
    "        self.model=model\n",
    "        self.wheel=wheel\n",
    "        self.color=color\n",
    "    def RunCar():\n",
    "        print (\"Car is Running \")\n",
    "    def FuelTank():\n",
    "        print(\"Fuel Tank is filling\")\n"
   ]
  },
  {
   "cell_type": "code",
   "execution_count": 3,
   "metadata": {},
   "outputs": [],
   "source": [
    "class Battery():\n",
    "    def __init__(self,manf,amp,time,cells):\n",
    "        self.manf=manf\n",
    "        self.amp=amp\n",
    "        self.time=time\n",
    "        self.cells=cells\n"
   ]
  },
  {
   "cell_type": "code",
   "execution_count": 27,
   "metadata": {},
   "outputs": [],
   "source": [
    "class ElectricCar(Car):\n",
    "        def __init__(self,make,model,wheel,color,battery,manf,amp,time,cells):\n",
    "                self.battry=Battery(manf,amp,time,cells)\n",
    "                super().__init__(make,model,wheel,color)\n",
    "                \n",
    "                \n",
    "        \n",
    "        def FuelTank(self):\n",
    "                print(f\"this car have {self.battry.cells} Cells battery\")        "
   ]
  },
  {
   "cell_type": "code",
   "execution_count": 28,
   "metadata": {},
   "outputs": [
    {
     "name": "stdout",
     "output_type": "stream",
     "text": [
      "this car have 27 Cells battery\n"
     ]
    }
   ],
   "source": [
    "c1=ElectricCar(\"Honda\",\"Civic\",\"4\",\"Black\",\"batrry\",\"AGS\",\"200\",\"3 Hrs\",\"27\")\n",
    "c1.FuelTank()"
   ]
  },
  {
   "cell_type": "code",
   "execution_count": null,
   "metadata": {},
   "outputs": [],
   "source": []
  }
 ],
 "metadata": {
  "kernelspec": {
   "display_name": "Python 3.9.12 ('base')",
   "language": "python",
   "name": "python3"
  },
  "language_info": {
   "codemirror_mode": {
    "name": "ipython",
    "version": 3
   },
   "file_extension": ".py",
   "mimetype": "text/x-python",
   "name": "python",
   "nbconvert_exporter": "python",
   "pygments_lexer": "ipython3",
   "version": "3.9.12"
  },
  "orig_nbformat": 4,
  "vscode": {
   "interpreter": {
    "hash": "8701f4f1da9bd022d51fabb334d76856c938e37aa8ec8099d20e0015f9d5ebaa"
   }
  }
 },
 "nbformat": 4,
 "nbformat_minor": 2
}
