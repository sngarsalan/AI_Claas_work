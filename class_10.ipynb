{
 "cells": [
  {
   "cell_type": "markdown",
   "metadata": {},
   "source": [
    "Class 10 - OOPS"
   ]
  },
  {
   "cell_type": "code",
   "execution_count": 2,
   "metadata": {},
   "outputs": [],
   "source": [
    "#__init__  (__ =  called as dunder) "
   ]
  },
  {
   "cell_type": "code",
   "execution_count": 4,
   "metadata": {},
   "outputs": [],
   "source": [
    "class person():\n",
    "    def __init__(self,name,age,skills):\n",
    "        self.name=name\n",
    "        self.age=age\n",
    "        self.skills=skills\n",
    "    "
   ]
  },
  {
   "cell_type": "code",
   "execution_count": 5,
   "metadata": {},
   "outputs": [],
   "source": [
    "p1=person(\"arsalan\",29,\"Python\")"
   ]
  },
  {
   "cell_type": "code",
   "execution_count": 13,
   "metadata": {},
   "outputs": [
    {
     "name": "stdout",
     "output_type": "stream",
     "text": [
      "arsalan your age is 29 and it is greater then 18\n"
     ]
    }
   ],
   "source": [
    "if p1.age<=18:\n",
    "    print(p1.name)\n",
    "else:\n",
    "    print(f\"{p1.name} your age is {p1.age} and it is greater then 18\")\n"
   ]
  },
  {
   "cell_type": "code",
   "execution_count": 15,
   "metadata": {},
   "outputs": [],
   "source": [
    "#INHERITANCE in OOPS"
   ]
  },
  {
   "cell_type": "code",
   "execution_count": null,
   "metadata": {},
   "outputs": [],
   "source": []
  }
 ],
 "metadata": {
  "kernelspec": {
   "display_name": "Python 3.9.12 ('base')",
   "language": "python",
   "name": "python3"
  },
  "language_info": {
   "codemirror_mode": {
    "name": "ipython",
    "version": 3
   },
   "file_extension": ".py",
   "mimetype": "text/x-python",
   "name": "python",
   "nbconvert_exporter": "python",
   "pygments_lexer": "ipython3",
   "version": "3.9.12"
  },
  "orig_nbformat": 4,
  "vscode": {
   "interpreter": {
    "hash": "8701f4f1da9bd022d51fabb334d76856c938e37aa8ec8099d20e0015f9d5ebaa"
   }
  }
 },
 "nbformat": 4,
 "nbformat_minor": 2
}
